{
 "cells": [
  {
   "cell_type": "code",
   "execution_count": 3,
   "metadata": {},
   "outputs": [],
   "source": [
    "import pandas as pd\n",
    "df = pd.read_csv('directors-movies.csv')\n",
    "\n",
    "movie_overviews = df[\"overview\"].tolist()"
   ]
  },
  {
   "cell_type": "code",
   "execution_count": 4,
   "metadata": {},
   "outputs": [
    {
     "name": "stderr",
     "output_type": "stream",
     "text": [
      "/Library/Frameworks/Python.framework/Versions/3.10/lib/python3.10/site-packages/langchain_core/_api/deprecation.py:117: LangChainDeprecationWarning: The class `langchain_community.embeddings.openai.OpenAIEmbeddings` was deprecated in langchain-community 0.1.0 and will be removed in 0.2.0. An updated version of the class exists in the langchain-openai package and should be used instead. To use it run `pip install -U langchain-openai` and import as `from langchain_openai import OpenAIEmbeddings`.\n",
      "  warn_deprecated(\n"
     ]
    }
   ],
   "source": [
    "from langchain.embeddings import OpenAIEmbeddings\n",
    "from dotenv import load_dotenv\n",
    "\n",
    "load_dotenv(\".env\")\n",
    "\n",
    "embeddings = OpenAIEmbeddings()\n",
    "\n",
    "embeddings_list = []\n",
    "\n",
    "for overview in movie_overviews:\n",
    "  embeddings_list.append(embeddings.embed_query(overview))"
   ]
  },
  {
   "cell_type": "code",
   "execution_count": 5,
   "metadata": {},
   "outputs": [],
   "source": [
    "import numpy as np\n",
    "\n",
    "embeddings_list = np.array(embeddings_list).astype(\"float32\")"
   ]
  },
  {
   "cell_type": "code",
   "execution_count": 6,
   "metadata": {},
   "outputs": [],
   "source": [
    "import faiss\n",
    "\n",
    "index = faiss.IndexFlatL2(1536)\n",
    "index.add(embeddings_list)"
   ]
  },
  {
   "cell_type": "code",
   "execution_count": 7,
   "metadata": {},
   "outputs": [],
   "source": [
    "faiss.write_index(index, \"embeddings.index\")"
   ]
  },
  {
   "cell_type": "code",
   "execution_count": 8,
   "metadata": {},
   "outputs": [],
   "source": [
    "index = faiss.read_index(\"embeddings.index\")"
   ]
  },
  {
   "cell_type": "code",
   "execution_count": 9,
   "metadata": {},
   "outputs": [],
   "source": [
    "test_sample = embeddings.embed_query(\"When teenager Elle's first kiss leads to a forbidden romance with the hottest boy in high school, she risks her relationship with her best friend.\")\n",
    "\n",
    "test_sample = np.array([test_sample]).astype(\"float32\")"
   ]
  },
  {
   "cell_type": "code",
   "execution_count": 10,
   "metadata": {},
   "outputs": [],
   "source": [
    "k = 5\n",
    "distances, indices = index.search(test_sample, k)"
   ]
  },
  {
   "cell_type": "code",
   "execution_count": 18,
   "metadata": {},
   "outputs": [
    {
     "name": "stdout",
     "output_type": "stream",
     "text": [
      "[{'id': 987923, 'title': 'Young Adult', 'original_language': 'en', 'overview': 'On the last day of a summer camp for persons with disabilities, a teenage girl fights to connect the boy that might be the love of her life.', 'poster_path': '/A8g8rTSpdDKvKC1Y5zgf2NnwaD2.jpg', 'genre_ids': '[18]', 'popularity': 0.846, 'release_date': '2017-01-01', 'vote_average': 0.0, 'vote_count': 0}, {'id': 634022, 'title': 'Waking Hour', 'original_language': 'en', 'overview': 'A young trans woman is pursued by a potential lover at a party. As she balances concerns about her safety and her desire for intimacy, she must figure out what she wants before she can go for it.', 'poster_path': '/jznXxLXZ8ilNiAXHjOBO5vVrYyN.jpg', 'genre_ids': '[]', 'popularity': 1.349, 'release_date': '2019-03-04', 'vote_average': 0.0, 'vote_count': 0}, {'id': 177354, 'title': 'Stud Life', 'original_language': 'en', 'overview': \"Stud lesbian JJ works with her gay best friend Seb as wedding photographers. When JJ falls in love with a beautiful diva, JJ and Seb's friendship is tested, and she’s forced to chose between her hot new lover and her best friend.\", 'poster_path': '/4VGxuafg0atOEnlfO6Ca40l27Zn.jpg', 'genre_ids': '[18, 10749]', 'popularity': 3.299, 'release_date': '2012-03-22', 'vote_average': 3.8, 'vote_count': 11}, {'id': 341689, 'title': 'How to Talk to Girls at Parties', 'original_language': 'en', 'overview': 'In 1970s London, a teenage outsider named Enn falls in love with a rebellious alien girl named Zan, who has come to Earth for a party. Together, they navigate the complexities of intergalactic culture and the trials of first love.', 'poster_path': '/v6mPfyGshwXd1R6kQlMEyZ8Zu2s.jpg', 'genre_ids': '[35, 10402, 10749, 878]', 'popularity': 12.24, 'release_date': '2017-10-06', 'vote_average': 6.039, 'vote_count': 355}, {'id': 486233, 'title': 'Adam', 'original_language': 'en', 'overview': \"Adam, an awkward teen, spends a summer with his older sister, who is part of New York City's lesbian and trans activist scene. He meets the girl of his dreams but can't figure out how to tell her he's not the trans man she thinks he is.\", 'poster_path': '/n4HBr4ps1OwO6OuNWG4Vt22kUfF.jpg', 'genre_ids': '[35]', 'popularity': 3.804, 'release_date': '2019-08-14', 'vote_average': 4.1, 'vote_count': 25}]\n"
     ]
    }
   ],
   "source": [
    "recs = df.iloc[indices[0]]\n",
    "recs_dict = recs.to_dict(orient='records')\n",
    "print(recs_dict)"
   ]
  },
  {
   "cell_type": "markdown",
   "metadata": {},
   "source": [
    "prepend \"https://image.tmdb.org/t/p/w1280\" to 'poster_path' to get a link to the movie's image; prepend \"https://www.themoviedb.org/movie/\" to the id to get a link to the movie itself"
   ]
  }
 ],
 "metadata": {
  "kernelspec": {
   "display_name": "Python 3",
   "language": "python",
   "name": "python3"
  },
  "language_info": {
   "codemirror_mode": {
    "name": "ipython",
    "version": 3
   },
   "file_extension": ".py",
   "mimetype": "text/x-python",
   "name": "python",
   "nbconvert_exporter": "python",
   "pygments_lexer": "ipython3",
   "version": "3.10.6"
  }
 },
 "nbformat": 4,
 "nbformat_minor": 2
}
